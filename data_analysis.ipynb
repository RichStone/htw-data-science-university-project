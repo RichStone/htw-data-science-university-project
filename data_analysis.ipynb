{
 "cells": [
  {
   "cell_type": "markdown",
   "metadata": {},
   "source": [
    "# TODOs\n",
    "- [ ] Metadaten.json zu Python Variablen, in Python Dictionary einspeisen und auslesen (Parkplätze, WiFi) -> Frank\n",
    "- [ ] Map (Slider, Heat Map, Animationen) Visualisierungen -> Frank\n",
    "- [ ] virtual env vorbereiten -> Rich\n",
    "- [ ] projektserver? -> Rich\n",
    "- [ ] Erste Statistiken (Bar Charts, Graphs usw.) Visualisierungen -> Rich\n",
    "- [ ] Chart Ideen -> Anja\n",
    "- [ ] Unsere Daten in PowerBI einspeisen, (welche Daten bräuchten wir z.B. für Graph Bubble oder allgemeine Sachen) oder was kostenloses (z.B. CliqSense) -> Anja"
   ]
  },
  {
   "cell_type": "markdown",
   "metadata": {},
   "source": [
    "# Unsere Quellen zum Visualisierungserfolg:\n",
    "### Wie Wähle ich die richtige Visualisierung?\n",
    "\n",
    "https://eazybi.com/blog/data_visualization_and_chart_types/\n",
    "\n",
    "### Wo finde ich sie in Python?\n",
    "\n",
    "https://python-graph-gallery.com"
   ]
  },
  {
   "cell_type": "markdown",
   "metadata": {},
   "source": [
    "# Domänenwissen\n",
    "\n",
    "* Öffnungszeiten (Theater, Uni)\n",
    "* Peak Times, Tag\n",
    "* Ferienzeiten\n",
    "* Special Events (Demos, Strassensperren)\n",
    "* Parkplätze kostenlos/bezahlt?\n",
    "* Sonntag Flohmarkt\n",
    "\n",
    "# Ideen\n",
    "* Vergleich mit Wetterdaten\n",
    "* Verlgeich mit Öffis -> Empfehlungen aussprechen -> z.B. mehr Busse sollen fahren, aber eine U-Bahn kann ausfallen\n",
    "* Anhand von hauptsächlich Fußgänger könnte man behaupten, wann Vorlesungen auf der TU sind\n",
    "\n",
    "# Korrelation\n",
    "* Wie viele fahren rein um bestimmte Uhrzeit rein -> Belegung Parkplätze\n",
    "* WiFi Nutzung in Zusammenhang mit parkenden Autos?\n",
    "\n",
    "# Prädiktionen (ML)\n",
    "* Traffic-/Personenaufkommen zu bestimmten Tageszeiten\n",
    "\n",
    "# Distribution\n",
    "* Normalverteilung\n",
    "\n",
    "# Intervall\n",
    "* Tageszeiten\n",
    "* Wochen\n",
    "\n",
    "# Fragen flow.lab\n",
    "* Wie wurden Pedestrian Daten aufgenommen?\n",
    "* Was sind die Daten bei WiFi?\n",
    "* Gibt es schon Ergebnisse aus Wettbewerb?\n",
    "* Gibt es neue Daten?\n",
    "* Erklärung zu Datenset?"
   ]
  },
  {
   "cell_type": "code",
   "execution_count": 7,
   "metadata": {},
   "outputs": [],
   "source": [
    "import pandas as pd\n",
    "import matplotlib.pyplot as plt\n",
    "import folium\n",
    "from IPython.display import HTML\n",
    "import sklearn as sk\n",
    "import numpy as np"
   ]
  },
  {
   "cell_type": "markdown",
   "metadata": {},
   "source": [
    "### Erklärungen/Links zu wichtigen Libraries\n",
    "- Markdown schreiben hier in Jupyter: https://github.com/adam-p/markdown-here/wiki/Markdown-Cheatsheet\n",
    "- folium für map Visualisierungen: https://github.com/python-visualization/folium"
   ]
  },
  {
   "cell_type": "markdown",
   "metadata": {},
   "source": [
    "### Daten einlesen\n",
    "> Erns-Reuter-Platz Datensatz aus http://flow.dai-labor.de"
   ]
  },
  {
   "cell_type": "code",
   "execution_count": 3,
   "metadata": {},
   "outputs": [],
   "source": [
    "wifi = pd.read_csv('data/wifi.csv')\n",
    "# TODO: hier restlichen Datensätze einlesen"
   ]
  },
  {
   "cell_type": "markdown",
   "metadata": {},
   "source": [
    "### Sinn aus den Daten machen "
   ]
  },
  {
   "cell_type": "code",
   "execution_count": 6,
   "metadata": {},
   "outputs": [],
   "source": [
    "# TODO: alle Typen aus der metadata.json in Python Variablen, z.B.:\n",
    "campus_eb = [52.512388, 13.32360925]\n",
    "campus_tel = [52.51298775, 13.32029525]"
   ]
  },
  {
   "cell_type": "markdown",
   "metadata": {},
   "source": [
    "### Wichtige Libraries\n",
    "- folium für map Visualisierungen: https://github.com/python-visualization/folium"
   ]
  },
  {
   "cell_type": "markdown",
   "metadata": {},
   "source": [
    "### Alle WiFi Standorte auf Karte visualisieren"
   ]
  },
  {
   "cell_type": "code",
   "execution_count": 9,
   "metadata": {
    "scrolled": true
   },
   "outputs": [
    {
     "data": {
      "text/html": [
       "<div style=\"width:100%;\"><div style=\"position:relative;width:100%;height:0;padding-bottom:60%;\"><iframe src=\"data:text/html;charset=utf-8;base64,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\" style=\"position:absolute;width:100%;height:100%;left:0;top:0;border:none !important;\" allowfullscreen webkitallowfullscreen mozallowfullscreen></iframe></div></div>"
      ],
      "text/plain": [
       "<folium.folium.Map at 0x150fd1b908>"
      ]
     },
     "execution_count": 9,
     "metadata": {},
     "output_type": "execute_result"
    }
   ],
   "source": [
    "# TODO: take center of ernst-reuter platz as location=POINT\n",
    "map = folium.Map(location=campus_eb, zoom_start=16)\n",
    "\n",
    "folium.Circle(\n",
    "    radius=50,\n",
    "    location=campus_eb,\n",
    "    popup='Campus EB',\n",
    "    color='#3186cc',\n",
    "    fill=True\n",
    ").add_to(map)\n",
    "\n",
    "folium.Marker(\n",
    "    location=campus_tel,\n",
    "    popup='Campus TEL',\n",
    "    icon=folium.Icon(icon='cloud')\n",
    ").add_to(map)\n",
    "\n",
    "map"
   ]
  },
  {
   "cell_type": "markdown",
   "metadata": {},
   "source": [
    "### Zum Vergleich Originalstandorte:\n",
    "(TODO: Karte rotieren?)"
   ]
  },
  {
   "cell_type": "markdown",
   "metadata": {},
   "source": [
    "![Sensor_Locations](images/Sensor_Locations.jpg)"
   ]
  },
  {
   "cell_type": "code",
   "execution_count": null,
   "metadata": {},
   "outputs": [],
   "source": []
  }
 ],
 "metadata": {
  "kernelspec": {
   "display_name": "Python 3",
   "language": "python",
   "name": "python3"
  },
  "language_info": {
   "codemirror_mode": {
    "name": "ipython",
    "version": 3
   },
   "file_extension": ".py",
   "mimetype": "text/x-python",
   "name": "python",
   "nbconvert_exporter": "python",
   "pygments_lexer": "ipython3",
   "version": "3.6.4"
  }
 },
 "nbformat": 4,
 "nbformat_minor": 2
}
